{
  "cells": [
    {
      "source": [
        "# IMPORTANT: RUN THIS CELL IN ORDER TO IMPORT YOUR KAGGLE DATA SOURCES,\n",
        "# THEN FEEL FREE TO DELETE THIS CELL.\n",
        "# NOTE: THIS NOTEBOOK ENVIRONMENT DIFFERS FROM KAGGLE'S PYTHON\n",
        "# ENVIRONMENT SO THERE MAY BE MISSING LIBRARIES USED BY YOUR\n",
        "# NOTEBOOK.\n",
        "import kagglehub\n",
        "siddharthkumar25_malicious_and_benign_urls_path = kagglehub.dataset_download('siddharthkumar25/malicious-and-benign-urls')\n",
        "\n",
        "print('Data source import complete.')\n"
      ],
      "metadata": {
        "id": "Yi9ZQWTW24xd"
      },
      "cell_type": "code",
      "outputs": [],
      "execution_count": null
    },
    {
      "metadata": {
        "id": "xCxni5FQ24xh"
      },
      "cell_type": "markdown",
      "source": [
        "# Detecting Maclicious URLs using Machine Learning<br>\n",
        "The malicious urls can be detected using the lexical features along with tokenization of the url strings. I aim to build a basic binary classifier which would help classify the URLs as malicious or benign."
      ]
    },
    {
      "metadata": {
        "id": "r2_hcuXU24xl"
      },
      "cell_type": "markdown",
      "source": [
        "Steps followed in building the machine learning classifier<br>\n",
        "1. Data Preprocessing / Feature Engineering\n",
        "2. Data Visualization\n",
        "3. Building Machine Learning Models using Lexical Features.\n",
        "4. Building Machine Learning Models using Lexical Features and Tokenization. (Will Update this part)"
      ]
    },
    {
      "metadata": {
        "id": "eQdHc2N324xm"
      },
      "cell_type": "markdown",
      "source": [
        "Importing The Dependencies"
      ]
    },
    {
      "metadata": {
        "_uuid": "8f2839f25d086af736a60e9eeb907d3b93b6e0e5",
        "_cell_guid": "b1076dfc-b9ad-4769-8c92-a6c4dae69d19",
        "trusted": true,
        "id": "L_YkbYfn24xm"
      },
      "cell_type": "code",
      "source": [
        "\n",
        "import numpy as np\n",
        "import pandas as pd\n",
        "\n",
        "import matplotlib.pyplot as plt\n",
        "import seaborn as sns\n",
        "\n",
        "import os\n",
        "print(os.listdir(\"../input\"))\n"
      ],
      "execution_count": null,
      "outputs": []
    },
    {
      "metadata": {
        "_cell_guid": "79c7e3d0-c299-4dcb-8224-4455121ee9b0",
        "_uuid": "d629ff2d2480ee46fbb7e2d37f6b5fab8052498a",
        "trusted": true,
        "id": "4PUToBbX24xn"
      },
      "cell_type": "code",
      "source": [
        "urldata = pd.read_csv(\"../input/urldata.csv\")"
      ],
      "execution_count": null,
      "outputs": []
    },
    {
      "metadata": {
        "trusted": true,
        "id": "mksm6fIQ24xo"
      },
      "cell_type": "code",
      "source": [
        "urldata.head()"
      ],
      "execution_count": null,
      "outputs": []
    },
    {
      "metadata": {
        "trusted": true,
        "id": "qnvJvg8y24xo"
      },
      "cell_type": "code",
      "source": [
        "#Removing the unnamed columns as it is not necesary.\n",
        "urldata = urldata.drop('Unnamed: 0',axis=1)"
      ],
      "execution_count": null,
      "outputs": []
    },
    {
      "metadata": {
        "trusted": true,
        "id": "JP_VcnMG24xp"
      },
      "cell_type": "code",
      "source": [
        "urldata.head()"
      ],
      "execution_count": null,
      "outputs": []
    },
    {
      "metadata": {
        "trusted": true,
        "id": "tFlnIipP24xp"
      },
      "cell_type": "code",
      "source": [
        "urldata.shape"
      ],
      "execution_count": null,
      "outputs": []
    },
    {
      "metadata": {
        "trusted": true,
        "id": "VEdLF4RL24xq"
      },
      "cell_type": "code",
      "source": [
        "urldata.info()"
      ],
      "execution_count": null,
      "outputs": []
    },
    {
      "metadata": {
        "id": "TN5vMICF24xq"
      },
      "cell_type": "markdown",
      "source": [
        "Checking Missing Values"
      ]
    },
    {
      "metadata": {
        "trusted": true,
        "id": "xNd4AZJg24xq"
      },
      "cell_type": "code",
      "source": [
        "urldata.isnull().sum()"
      ],
      "execution_count": null,
      "outputs": []
    },
    {
      "metadata": {
        "id": "AA4VgbD124xq"
      },
      "cell_type": "markdown",
      "source": [
        "No missing values in any column."
      ]
    },
    {
      "metadata": {
        "id": "NMMxSOCL24xr"
      },
      "cell_type": "markdown",
      "source": [
        "## 1. DATA PREPROCESSING"
      ]
    },
    {
      "metadata": {
        "id": "hcVGM89J24xr"
      },
      "cell_type": "markdown",
      "source": [
        "The following features will be extracted from the URL for classification. <br>\n",
        "<ol>\n",
        "    <li>Length Features\n",
        "    <ul>\n",
        "        <li>Length Of Url</li>\n",
        "        <li>Length of Hostname</li>\n",
        "        <li>Length Of Path</li>\n",
        "        <li>Length Of First Directory</li>\n",
        "        <li>Length Of Top Level Domain</li>\n",
        "    </ul>\n",
        "    </li>\n",
        "    <br>\n",
        "   <li>Count Features\n",
        "    <ul>\n",
        "    <li>Count Of  '-'</li>\n",
        "    <li>Count Of '@'</li>\n",
        "    <li>Count Of '?'</li>\n",
        "    <li>Count Of '%'</li>\n",
        "    <li>Count Of '.'</li>\n",
        "    <li>Count Of '='</li>\n",
        "    <li>Count Of 'http'</li>\n",
        "    <li>Count Of 'www'</li>\n",
        "    <li>Count Of Digits</li>\n",
        "    <li>Count Of Letters</li>\n",
        "    <li>Count Of Number Of Directories</li>\n",
        "    </ul>\n",
        "    </li>\n",
        "    <br>\n",
        "    <li>Binary Features\n",
        "    <ul>\n",
        "        <li>Use of IP or not</li>\n",
        "        <li>Use of Shortening URL or not</li>\n",
        "    </ul>\n",
        "    </li>\n",
        "    \n",
        "</ol>\n",
        "\n",
        "Apart from the lexical features, we will use TFID - Term Frequency Inverse Document as well."
      ]
    },
    {
      "metadata": {
        "id": "UNo_YBbp24xr"
      },
      "cell_type": "markdown",
      "source": [
        "### 1.1 Length Features"
      ]
    },
    {
      "metadata": {
        "trusted": true,
        "id": "vXfw-22024xr"
      },
      "cell_type": "code",
      "source": [
        "!pip install tld"
      ],
      "execution_count": null,
      "outputs": []
    },
    {
      "metadata": {
        "trusted": true,
        "id": "k4Oq4pgo24xs"
      },
      "cell_type": "code",
      "source": [
        "#Importing dependencies\n",
        "from urllib.parse import urlparse\n",
        "from tld import get_tld\n",
        "import os.path"
      ],
      "execution_count": null,
      "outputs": []
    },
    {
      "metadata": {
        "trusted": true,
        "id": "pmBzZMTr24xs"
      },
      "cell_type": "code",
      "source": [
        "#Length of URL\n",
        "urldata['url_length'] = urldata['url'].apply(lambda i: len(str(i)))"
      ],
      "execution_count": null,
      "outputs": []
    },
    {
      "metadata": {
        "trusted": true,
        "id": "BQjnAtWg24xs"
      },
      "cell_type": "code",
      "source": [
        "#Hostname Length\n",
        "urldata['hostname_length'] = urldata['url'].apply(lambda i: len(urlparse(i).netloc))"
      ],
      "execution_count": null,
      "outputs": []
    },
    {
      "metadata": {
        "trusted": true,
        "id": "7yISwAb624xs"
      },
      "cell_type": "code",
      "source": [
        "#Path Length\n",
        "urldata['path_length'] = urldata['url'].apply(lambda i: len(urlparse(i).path))"
      ],
      "execution_count": null,
      "outputs": []
    },
    {
      "metadata": {
        "trusted": true,
        "id": "AWjMPjkL24xs"
      },
      "cell_type": "code",
      "source": [
        "#First Directory Length\n",
        "def fd_length(url):\n",
        "    urlpath= urlparse(url).path\n",
        "    try:\n",
        "        return len(urlpath.split('/')[1])\n",
        "    except:\n",
        "        return 0\n",
        "\n",
        "urldata['fd_length'] = urldata['url'].apply(lambda i: fd_length(i))"
      ],
      "execution_count": null,
      "outputs": []
    },
    {
      "metadata": {
        "trusted": true,
        "id": "XoRsRof324xt"
      },
      "cell_type": "code",
      "source": [
        "#Length of Top Level Domain\n",
        "urldata['tld'] = urldata['url'].apply(lambda i: get_tld(i,fail_silently=True))\n",
        "def tld_length(tld):\n",
        "    try:\n",
        "        return len(tld)\n",
        "    except:\n",
        "        return -1\n",
        "\n",
        "urldata['tld_length'] = urldata['tld'].apply(lambda i: tld_length(i))"
      ],
      "execution_count": null,
      "outputs": []
    },
    {
      "metadata": {
        "trusted": true,
        "id": "0sIW5fZZ24xt"
      },
      "cell_type": "code",
      "source": [
        "urldata.head()"
      ],
      "execution_count": null,
      "outputs": []
    },
    {
      "metadata": {
        "trusted": true,
        "id": "H-QZllLM24xt"
      },
      "cell_type": "code",
      "source": [
        "urldata = urldata.drop(\"tld\",1)"
      ],
      "execution_count": null,
      "outputs": []
    },
    {
      "metadata": {
        "id": "V9DNsvwI24xt"
      },
      "cell_type": "markdown",
      "source": [
        "Dataset after extracting length features"
      ]
    },
    {
      "metadata": {
        "trusted": true,
        "id": "1I8l3vWa24xt"
      },
      "cell_type": "code",
      "source": [
        "urldata.head()"
      ],
      "execution_count": null,
      "outputs": []
    },
    {
      "metadata": {
        "id": "goObjEjp24xt"
      },
      "cell_type": "markdown",
      "source": [
        "### 1.2 Count Features"
      ]
    },
    {
      "metadata": {
        "trusted": true,
        "id": "fhFRvmBl24xt"
      },
      "cell_type": "code",
      "source": [
        "urldata['count-'] = urldata['url'].apply(lambda i: i.count('-'))"
      ],
      "execution_count": null,
      "outputs": []
    },
    {
      "metadata": {
        "trusted": true,
        "id": "jBkm2FNq24xt"
      },
      "cell_type": "code",
      "source": [
        "urldata['count@'] = urldata['url'].apply(lambda i: i.count('@'))"
      ],
      "execution_count": null,
      "outputs": []
    },
    {
      "metadata": {
        "trusted": true,
        "id": "XokmhIbi24xu"
      },
      "cell_type": "code",
      "source": [
        "urldata['count?'] = urldata['url'].apply(lambda i: i.count('?'))"
      ],
      "execution_count": null,
      "outputs": []
    },
    {
      "metadata": {
        "trusted": true,
        "id": "XPfLKbJo24xu"
      },
      "cell_type": "code",
      "source": [
        "urldata['count%'] = urldata['url'].apply(lambda i: i.count('%'))"
      ],
      "execution_count": null,
      "outputs": []
    },
    {
      "metadata": {
        "trusted": true,
        "id": "OryldzAU24xu"
      },
      "cell_type": "code",
      "source": [
        "urldata['count.'] = urldata['url'].apply(lambda i: i.count('.'))"
      ],
      "execution_count": null,
      "outputs": []
    },
    {
      "metadata": {
        "trusted": true,
        "id": "QDLH0FSd24xu"
      },
      "cell_type": "code",
      "source": [
        "urldata['count='] = urldata['url'].apply(lambda i: i.count('='))"
      ],
      "execution_count": null,
      "outputs": []
    },
    {
      "metadata": {
        "trusted": true,
        "id": "2dF3zJMT24xu"
      },
      "cell_type": "code",
      "source": [
        "urldata['count-http'] = urldata['url'].apply(lambda i : i.count('http'))"
      ],
      "execution_count": null,
      "outputs": []
    },
    {
      "metadata": {
        "trusted": true,
        "id": "HBWAGzFv24xw"
      },
      "cell_type": "code",
      "source": [
        "urldata['count-https'] = urldata['url'].apply(lambda i : i.count('https'))"
      ],
      "execution_count": null,
      "outputs": []
    },
    {
      "metadata": {
        "trusted": true,
        "id": "yDOzBh9W24xw"
      },
      "cell_type": "code",
      "source": [
        "urldata['count-www'] = urldata['url'].apply(lambda i: i.count('www'))"
      ],
      "execution_count": null,
      "outputs": []
    },
    {
      "metadata": {
        "trusted": true,
        "id": "PL6AxQPy24xw"
      },
      "cell_type": "code",
      "source": [
        "def digit_count(url):\n",
        "    digits = 0\n",
        "    for i in url:\n",
        "        if i.isnumeric():\n",
        "            digits = digits + 1\n",
        "    return digits\n",
        "urldata['count-digits']= urldata['url'].apply(lambda i: digit_count(i))"
      ],
      "execution_count": null,
      "outputs": []
    },
    {
      "metadata": {
        "trusted": true,
        "id": "6jnH-_qr24x4"
      },
      "cell_type": "code",
      "source": [
        "def letter_count(url):\n",
        "    letters = 0\n",
        "    for i in url:\n",
        "        if i.isalpha():\n",
        "            letters = letters + 1\n",
        "    return letters\n",
        "urldata['count-letters']= urldata['url'].apply(lambda i: letter_count(i))"
      ],
      "execution_count": null,
      "outputs": []
    },
    {
      "metadata": {
        "trusted": true,
        "id": "zRDVTMjL24x4"
      },
      "cell_type": "code",
      "source": [
        "def no_of_dir(url):\n",
        "    urldir = urlparse(url).path\n",
        "    return urldir.count('/')\n",
        "urldata['count_dir'] = urldata['url'].apply(lambda i: no_of_dir(i))"
      ],
      "execution_count": null,
      "outputs": []
    },
    {
      "metadata": {
        "id": "hYVPLFR624x5"
      },
      "cell_type": "markdown",
      "source": [
        "Data after extracting Count Features"
      ]
    },
    {
      "metadata": {
        "trusted": true,
        "id": "hAMUr8Vt24x5"
      },
      "cell_type": "code",
      "source": [
        "urldata.head()"
      ],
      "execution_count": null,
      "outputs": []
    },
    {
      "metadata": {
        "id": "XCglqkGb24x5"
      },
      "cell_type": "markdown",
      "source": [
        "### 1.3 Binary Features"
      ]
    },
    {
      "metadata": {
        "trusted": true,
        "id": "hAAsPbXn24x5"
      },
      "cell_type": "code",
      "source": [
        "import re"
      ],
      "execution_count": null,
      "outputs": []
    },
    {
      "metadata": {
        "trusted": true,
        "id": "DSlrsPlu24x5"
      },
      "cell_type": "code",
      "source": [
        "#Use of IP or not in domain\n",
        "def having_ip_address(url):\n",
        "    match = re.search(\n",
        "        '(([01]?\\\\d\\\\d?|2[0-4]\\\\d|25[0-5])\\\\.([01]?\\\\d\\\\d?|2[0-4]\\\\d|25[0-5])\\\\.([01]?\\\\d\\\\d?|2[0-4]\\\\d|25[0-5])\\\\.'\n",
        "        '([01]?\\\\d\\\\d?|2[0-4]\\\\d|25[0-5])\\\\/)|'  # IPv4\n",
        "        '((0x[0-9a-fA-F]{1,2})\\\\.(0x[0-9a-fA-F]{1,2})\\\\.(0x[0-9a-fA-F]{1,2})\\\\.(0x[0-9a-fA-F]{1,2})\\\\/)' # IPv4 in hexadecimal\n",
        "        '(?:[a-fA-F0-9]{1,4}:){7}[a-fA-F0-9]{1,4}', url)  # Ipv6\n",
        "    if match:\n",
        "        # print match.group()\n",
        "        return -1\n",
        "    else:\n",
        "        # print 'No matching pattern found'\n",
        "        return 1\n",
        "urldata['use_of_ip'] = urldata['url'].apply(lambda i: having_ip_address(i))"
      ],
      "execution_count": null,
      "outputs": []
    },
    {
      "metadata": {
        "trusted": true,
        "id": "CdYQJB5f24x6"
      },
      "cell_type": "code",
      "source": [
        "def shortening_service(url):\n",
        "    match = re.search('bit\\.ly|goo\\.gl|shorte\\.st|go2l\\.ink|x\\.co|ow\\.ly|t\\.co|tinyurl|tr\\.im|is\\.gd|cli\\.gs|'\n",
        "                      'yfrog\\.com|migre\\.me|ff\\.im|tiny\\.cc|url4\\.eu|twit\\.ac|su\\.pr|twurl\\.nl|snipurl\\.com|'\n",
        "                      'short\\.to|BudURL\\.com|ping\\.fm|post\\.ly|Just\\.as|bkite\\.com|snipr\\.com|fic\\.kr|loopt\\.us|'\n",
        "                      'doiop\\.com|short\\.ie|kl\\.am|wp\\.me|rubyurl\\.com|om\\.ly|to\\.ly|bit\\.do|t\\.co|lnkd\\.in|'\n",
        "                      'db\\.tt|qr\\.ae|adf\\.ly|goo\\.gl|bitly\\.com|cur\\.lv|tinyurl\\.com|ow\\.ly|bit\\.ly|ity\\.im|'\n",
        "                      'q\\.gs|is\\.gd|po\\.st|bc\\.vc|twitthis\\.com|u\\.to|j\\.mp|buzurl\\.com|cutt\\.us|u\\.bb|yourls\\.org|'\n",
        "                      'x\\.co|prettylinkpro\\.com|scrnch\\.me|filoops\\.info|vzturl\\.com|qr\\.net|1url\\.com|tweez\\.me|v\\.gd|'\n",
        "                      'tr\\.im|link\\.zip\\.net',\n",
        "                      url)\n",
        "    if match:\n",
        "        return -1\n",
        "    else:\n",
        "        return 1\n",
        "urldata['short_url'] = urldata['url'].apply(lambda i: shortening_service(i))"
      ],
      "execution_count": null,
      "outputs": []
    },
    {
      "metadata": {
        "id": "m-dkY1Ir24x6"
      },
      "cell_type": "markdown",
      "source": [
        "Data after extracting Binary Features"
      ]
    },
    {
      "metadata": {
        "trusted": true,
        "id": "G-B9lKYa24x6"
      },
      "cell_type": "code",
      "source": [
        "urldata.head()"
      ],
      "execution_count": null,
      "outputs": []
    },
    {
      "metadata": {
        "id": "h6YINFd624x6"
      },
      "cell_type": "markdown",
      "source": [
        "# 2. Data Visualization"
      ]
    },
    {
      "metadata": {
        "trusted": true,
        "id": "CObgTA9k24x6"
      },
      "cell_type": "code",
      "source": [
        "#Heatmap\n",
        "corrmat = urldata.corr()\n",
        "f, ax = plt.subplots(figsize=(25,19))\n",
        "sns.heatmap(corrmat, square=True, annot = True, annot_kws={'size':10})"
      ],
      "execution_count": null,
      "outputs": []
    },
    {
      "metadata": {
        "trusted": true,
        "id": "cDf2w0m324x6"
      },
      "cell_type": "code",
      "source": [
        "plt.figure(figsize=(15,5))\n",
        "sns.countplot(x='label',data=urldata)\n",
        "plt.title(\"Count Of URLs\",fontsize=20)\n",
        "plt.xlabel(\"Type Of URLs\",fontsize=18)\n",
        "plt.ylabel(\"Number Of URLs\",fontsize=18)"
      ],
      "execution_count": null,
      "outputs": []
    },
    {
      "metadata": {
        "trusted": true,
        "id": "xUYLslT_24x7"
      },
      "cell_type": "code",
      "source": [
        "print(\"Percent Of Malicious URLs:{:.2f} %\".format(len(urldata[urldata['label']=='malicious'])/len(urldata['label'])*100))\n",
        "print(\"Percent Of Benign URLs:{:.2f} %\".format(len(urldata[urldata['label']=='benign'])/len(urldata['label'])*100))"
      ],
      "execution_count": null,
      "outputs": []
    },
    {
      "metadata": {
        "id": "wFiJ9hut24x7"
      },
      "cell_type": "markdown",
      "source": [
        "The data shows a class imbalance to some extent."
      ]
    },
    {
      "metadata": {
        "trusted": true,
        "id": "yEluL2p624x7"
      },
      "cell_type": "code",
      "source": [
        "plt.figure(figsize=(20,5))\n",
        "plt.hist(urldata['url_length'],bins=50,color='LightBlue')\n",
        "plt.title(\"URL-Length\",fontsize=20)\n",
        "plt.xlabel(\"Url-Length\",fontsize=18)\n",
        "plt.ylabel(\"Number Of Urls\",fontsize=18)\n",
        "plt.ylim(0,1000)\n"
      ],
      "execution_count": null,
      "outputs": []
    },
    {
      "metadata": {
        "trusted": true,
        "id": "nCjyGO9c24x8"
      },
      "cell_type": "code",
      "source": [
        "plt.figure(figsize=(20,5))\n",
        "plt.hist(urldata['hostname_length'],bins=50,color='Lightgreen')\n",
        "plt.title(\"Hostname-Length\",fontsize=20)\n",
        "plt.xlabel(\"Length Of Hostname\",fontsize=18)\n",
        "plt.ylabel(\"Number Of Urls\",fontsize=18)\n",
        "plt.ylim(0,1000)"
      ],
      "execution_count": null,
      "outputs": []
    },
    {
      "metadata": {
        "trusted": true,
        "id": "GZjRDrNY24x8"
      },
      "cell_type": "code",
      "source": [
        "plt.figure(figsize=(20,5))\n",
        "plt.hist(urldata['tld_length'],bins=50,color='Lightgreen')\n",
        "plt.title(\"TLD-Length\",fontsize=20)\n",
        "plt.xlabel(\"Length Of TLD\",fontsize=18)\n",
        "plt.ylabel(\"Number Of Urls\",fontsize=18)\n",
        "plt.ylim(0,1000)"
      ],
      "execution_count": null,
      "outputs": []
    },
    {
      "metadata": {
        "trusted": true,
        "id": "jjkf2n2z24x8"
      },
      "cell_type": "code",
      "source": [
        "plt.figure(figsize=(15,5))\n",
        "plt.title(\"Number Of Directories In Url\",fontsize=20)\n",
        "sns.countplot(x='count_dir',data=urldata)\n",
        "plt.xlabel(\"Number Of Directories\",fontsize=18)\n",
        "plt.ylabel(\"Number Of URLs\",fontsize=18)"
      ],
      "execution_count": null,
      "outputs": []
    },
    {
      "metadata": {
        "trusted": true,
        "id": "73gXTKDZ24x8"
      },
      "cell_type": "code",
      "source": [
        "plt.figure(figsize=(15,5))\n",
        "plt.title(\"Number Of Directories In Url\",fontsize=20)\n",
        "sns.countplot(x='count_dir',data=urldata,hue='label')\n",
        "plt.xlabel(\"Number Of Directories\",fontsize=18)\n",
        "plt.ylabel(\"Number Of URLs\",fontsize=18)"
      ],
      "execution_count": null,
      "outputs": []
    },
    {
      "metadata": {
        "trusted": true,
        "id": "Fqe-jU-a24x9"
      },
      "cell_type": "code",
      "source": [
        "plt.figure(figsize=(15,5))\n",
        "plt.title(\"Use Of IP In Url\",fontsize=20)\n",
        "plt.xlabel(\"Use Of IP\",fontsize=18)\n",
        "\n",
        "sns.countplot(urldata['use_of_ip'])\n",
        "plt.ylabel(\"Number of URLs\",fontsize=18)"
      ],
      "execution_count": null,
      "outputs": []
    },
    {
      "metadata": {
        "trusted": true,
        "id": "eNZ9MNKl24x9"
      },
      "cell_type": "code",
      "source": [
        "plt.figure(figsize=(15,5))\n",
        "plt.title(\"Use Of IP In Url\",fontsize=20)\n",
        "plt.xlabel(\"Use Of IP\",fontsize=18)\n",
        "plt.ylabel(\"Number of URLs\",fontsize=18)\n",
        "sns.countplot(urldata['use_of_ip'],hue='label',data=urldata)\n",
        "plt.ylabel(\"Number of URLs\",fontsize=18)"
      ],
      "execution_count": null,
      "outputs": []
    },
    {
      "metadata": {
        "trusted": true,
        "id": "dhcHcHTu24x9"
      },
      "cell_type": "code",
      "source": [
        "plt.figure(figsize=(15,5))\n",
        "plt.title(\"Use Of http In Url\",fontsize=20)\n",
        "plt.xlabel(\"Use Of IP\",fontsize=18)\n",
        "plt.ylim((0,1000))\n",
        "sns.countplot(urldata['count-http'])\n",
        "plt.ylabel(\"Number of URLs\",fontsize=18)"
      ],
      "execution_count": null,
      "outputs": []
    },
    {
      "metadata": {
        "trusted": true,
        "id": "9HT5CjKh24x9"
      },
      "cell_type": "code",
      "source": [
        "plt.figure(figsize=(15,5))\n",
        "plt.title(\"Use Of http In Url\",fontsize=20)\n",
        "plt.xlabel(\"Count Of http\",fontsize=18)\n",
        "plt.ylabel(\"Number of URLs\",fontsize=18)\n",
        "plt.ylim((0,1000))\n",
        "sns.countplot(urldata['count-http'],hue='label',data=urldata)\n",
        "plt.ylabel(\"Number of URLs\",fontsize=18)"
      ],
      "execution_count": null,
      "outputs": []
    },
    {
      "metadata": {
        "trusted": true,
        "id": "8Hai9wiV24x-"
      },
      "cell_type": "code",
      "source": [
        "plt.figure(figsize=(15,5))\n",
        "plt.title(\"Use Of http In Url\",fontsize=20)\n",
        "plt.xlabel(\"Count Of http\",fontsize=18)\n",
        "\n",
        "sns.countplot(urldata['count-http'],hue='label',data=urldata)\n",
        "\n",
        "plt.ylabel(\"Number of URLs\",fontsize=18)"
      ],
      "execution_count": null,
      "outputs": []
    },
    {
      "metadata": {
        "trusted": true,
        "id": "TKtKfuTP24x-"
      },
      "cell_type": "code",
      "source": [
        "plt.figure(figsize=(15,5))\n",
        "plt.title(\"Use Of WWW In URL\",fontsize=20)\n",
        "plt.xlabel(\"Count Of WWW\",fontsize=18)\n",
        "sns.countplot(urldata['count-www'])\n",
        "plt.ylim(0,1000)\n",
        "plt.ylabel(\"Number Of URLs\",fontsize=18)"
      ],
      "execution_count": null,
      "outputs": []
    },
    {
      "metadata": {
        "trusted": true,
        "id": "W04igHtU24x-"
      },
      "cell_type": "code",
      "source": [
        "plt.figure(figsize=(15,5))\n",
        "plt.title(\"Use Of WWW In URL\",fontsize=20)\n",
        "plt.xlabel(\"Count Of WWW\",fontsize=18)\n",
        "\n",
        "sns.countplot(urldata['count-www'],hue='label',data=urldata)\n",
        "plt.ylim(0,1000)\n",
        "plt.ylabel(\"Number Of URLs\",fontsize=18)"
      ],
      "execution_count": null,
      "outputs": []
    },
    {
      "metadata": {
        "id": "M1kMRiov24x-"
      },
      "cell_type": "markdown",
      "source": [
        "## 3. Building Models Using Lexical Features Only"
      ]
    },
    {
      "metadata": {
        "id": "k3tHtVYZ24x-"
      },
      "cell_type": "markdown",
      "source": [
        "I will be using three models for my classification.\n",
        "<br>1. Logistic Regression\n",
        "<br>2. Decision Trees\n",
        "<br>3. Random Forest"
      ]
    },
    {
      "metadata": {
        "trusted": true,
        "id": "ie9zo2ux24x_"
      },
      "cell_type": "code",
      "source": [
        "from sklearn.ensemble import RandomForestClassifier\n",
        "from sklearn.model_selection import train_test_split\n",
        "\n",
        "from sklearn.metrics import confusion_matrix,classification_report,accuracy_score\n",
        "\n",
        "from sklearn.tree import DecisionTreeClassifier\n",
        "\n",
        "from sklearn.linear_model import LogisticRegression\n",
        "\n"
      ],
      "execution_count": null,
      "outputs": []
    },
    {
      "metadata": {
        "trusted": true,
        "id": "9QNIDxuB24x_"
      },
      "cell_type": "code",
      "source": [
        "#Predictor Variables\n",
        "x = urldata[['hostname_length',\n",
        "       'path_length', 'fd_length', 'tld_length', 'count-', 'count@', 'count?',\n",
        "       'count%', 'count.', 'count=', 'count-http','count-https', 'count-www', 'count-digits',\n",
        "       'count-letters', 'count_dir', 'use_of_ip']]\n",
        "\n",
        "#Target Variable\n",
        "y = urldata['result']"
      ],
      "execution_count": null,
      "outputs": []
    },
    {
      "metadata": {
        "trusted": true,
        "id": "3xSFSq8v24x_"
      },
      "cell_type": "code",
      "source": [
        "x.shape"
      ],
      "execution_count": null,
      "outputs": []
    },
    {
      "metadata": {
        "trusted": true,
        "id": "4K6N8kxq24x_"
      },
      "cell_type": "code",
      "source": [
        "y.shape"
      ],
      "execution_count": null,
      "outputs": []
    },
    {
      "metadata": {
        "trusted": true,
        "id": "kUprRav324x_"
      },
      "cell_type": "code",
      "source": [
        "#Splitting the data into Training and Testing\n",
        "x_train, x_test, y_train, y_test = train_test_split(x, y, train_size=0.3, random_state=42)"
      ],
      "execution_count": null,
      "outputs": []
    },
    {
      "metadata": {
        "trusted": true,
        "id": "A5iKdI_q24x_"
      },
      "cell_type": "code",
      "source": [
        "#Decision Tree\n",
        "dt_model = DecisionTreeClassifier()\n",
        "dt_model.fit(x_train,y_train)\n",
        "\n",
        "dt_predictions = dt_model.predict(x_test)\n",
        "accuracy_score(y_test,dt_predictions)\n"
      ],
      "execution_count": null,
      "outputs": []
    },
    {
      "metadata": {
        "trusted": true,
        "id": "lZVK1com24x_"
      },
      "cell_type": "code",
      "source": [
        "print(confusion_matrix(y_test,dt_predictions))"
      ],
      "execution_count": null,
      "outputs": []
    },
    {
      "metadata": {
        "trusted": true,
        "id": "4RHHlOy524yA"
      },
      "cell_type": "code",
      "source": [
        "#Random Forest\n",
        "rfc = RandomForestClassifier()\n",
        "rfc.fit(x_train, y_train)\n",
        "\n",
        "rfc_predictions = rfc.predict(x_test)\n",
        "accuracy_score(y_test, rfc_predictions)"
      ],
      "execution_count": null,
      "outputs": []
    },
    {
      "metadata": {
        "trusted": true,
        "id": "Ckv9e_tL24yA"
      },
      "cell_type": "code",
      "source": [
        "print(confusion_matrix(y_test,rfc_predictions))"
      ],
      "execution_count": null,
      "outputs": []
    },
    {
      "metadata": {
        "trusted": true,
        "id": "jDapmb9G24yA"
      },
      "cell_type": "code",
      "source": [
        "#Logistic Regression\n",
        "log_model = LogisticRegression()\n",
        "log_model.fit(x_train,y_train)\n",
        "\n",
        "log_predictions = log_model.predict(x_test)\n",
        "accuracy_score(y_test,log_predictions)"
      ],
      "execution_count": null,
      "outputs": []
    },
    {
      "metadata": {
        "trusted": true,
        "id": "0WgVsVfV24yA"
      },
      "cell_type": "code",
      "source": [
        "print(confusion_matrix(y_test,log_predictions))"
      ],
      "execution_count": null,
      "outputs": []
    },
    {
      "metadata": {
        "id": "2i-hfO6L24yA"
      },
      "cell_type": "markdown",
      "source": [
        "Overall all the models showed great results with decent accuracy and low error rate.<br>\n",
        "The high accuracy can be due to the class imbalance situation which is not fixed yet."
      ]
    },
    {
      "metadata": {
        "id": "kMy5dg9g24yA"
      },
      "cell_type": "markdown",
      "source": [
        "Further Improvements<br>\n",
        "1. Analyse the code and tags used in the webpages.\n",
        "2. Reduce the class imbalance problem."
      ]
    },
    {
      "metadata": {
        "trusted": true,
        "id": "VwNfCTv224yA"
      },
      "cell_type": "code",
      "source": [],
      "execution_count": null,
      "outputs": []
    }
  ],
  "metadata": {
    "kernelspec": {
      "display_name": "Python 3",
      "language": "python",
      "name": "python3"
    },
    "language_info": {
      "name": "python",
      "version": "3.6.4",
      "mimetype": "text/x-python",
      "codemirror_mode": {
        "name": "ipython",
        "version": 3
      },
      "pygments_lexer": "ipython3",
      "nbconvert_exporter": "python",
      "file_extension": ".py"
    },
    "colab": {
      "name": "Detect Malicious URL using ML",
      "provenance": []
    }
  },
  "nbformat": 4,
  "nbformat_minor": 0
}